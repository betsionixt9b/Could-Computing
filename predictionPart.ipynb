{
 "cells": [
  {
   "cell_type": "code",
   "execution_count": 50,
   "metadata": {
    "collapsed": true
   },
   "outputs": [],
   "source": [
    "import matplotlib.colors as colors\n",
    "import os\n",
    "import re\n",
    "import string\n",
    "import numpy as np\n",
    "import pandas as pd\n",
    "import json\n",
    "import matplotlib.pyplot as plt\n",
    "import seaborn as sns; sns.set()\n",
    "import datetime\n",
    "import nltk\n",
    "from collections import Counter\n",
    "from sklearn.model_selection import train_test_split\n",
    "from sklearn.preprocessing import StandardScaler, OneHotEncoder, LabelEncoder\n",
    "from sklearn.model_selection import train_test_split, GridSearchCV\n",
    "from sklearn.pipeline import make_pipeline\n",
    "from sklearn.decomposition import PCA\n",
    "from sklearn.discriminant_analysis import LinearDiscriminantAnalysis as LDA\n",
    "from sklearn.metrics import confusion_matrix, precision_score, accuracy_score,roc_auc_score,\\\n",
    "                            r2_score, mean_squared_error, recall_score, precision_recall_curve"
   ]
  },
  {
   "cell_type": "code",
   "execution_count": null,
   "outputs": [],
   "source": [
    "bucket = 'group7bucketnew'\n",
    "file_key = ['sample.feather']\n",
    "s3uri = []\n",
    "for i in file_key:\n",
    "    s3uri.append('s3://{}/{}'.format(bucket, i))"
   ],
   "metadata": {
    "collapsed": false
   }
  },
  {
   "cell_type": "code",
   "execution_count": null,
   "outputs": [],
   "source": [
    "data = pd.DataFrame()\n",
    "for i in s3uri:\n",
    "    df = pd.read_feather(i)\n",
    "    df[\"origin\"] = i[21:]\n",
    "    data = data.append(df)"
   ],
   "metadata": {
    "collapsed": false
   }
  },
  {
   "cell_type": "code",
   "execution_count": 21,
   "outputs": [
    {
     "data": {
      "text/plain": "    index     video_id                                              title  \\\n0   41983  GzqOZ9QVZ_4  Meghan Markle Says Kate Middleton Made Her Cry...   \n1   91206  O5Vd-I1gd7Y                ANUEL AA || BZRP Music Sessions #46   \n2  161511  Rp54Lnej9WY  ‘서희원♥️구준엽’부부 케미퀴즈 너무 스윗하다! 다시 만날 때 눈물 터진 기억 한달...   \n3  114544  tYqUZapdjzE                                『ストリートファイター6』ティザー映像   \n4  163429  HlkORTHy8DU                Big Changes Coming (channel update)   \n\n          publishedAt published_date published_month published_day  \\\n0 2021-03-08 02:50:34     2021-03-08           March        Monday   \n1 2021-11-03 22:00:07     2021-11-03        November     Wednesday   \n2 2022-10-25 11:00:05     2022-10-25         October       Tuesday   \n3 2022-02-21 05:34:57     2022-02-21        February        Monday   \n4 2022-10-30 15:00:08     2022-10-30         October        Sunday   \n\n  published_time  published_hour                 channelId  ...  \\\n0       02:50:34               2  UCiKGMZZmZXK-RpbKJGXgH3Q  ...   \n1       22:00:07              22  UCmS75G-98QihSusY7NfCZtw  ...   \n2       11:00:05              11  UCKl0gSq0JOcdzXTrS4gk2cg  ...   \n3       05:34:57               5  UCyuEAZQzRqhcaLZvQd9ZUNA  ...   \n4       15:00:08              15  UC4laAHbk8VSgmvB47tsd2XQ  ...   \n\n                                                tags  view_count    likes  \\\n0  Access|meghan markle|prince harry|royals|kate ...     1406056     8497   \n1  bizarrap|biza|bisa|bizzarrap|bzrp|bzrp music s...    12407815  1368606   \n2  cne-tw|dj koo|dj koo 大s|vogue|vogue quiz|vogue...     2492614    28219   \n3                                             [None]      413789     4731   \n4  van life|living in a van|vanlife|eamon and bec...      589956    31990   \n\n  dislikes comment_count                                  thumbnail_link  \\\n0     3467          5570  https://i.ytimg.com/vi/GzqOZ9QVZ_4/default.jpg   \n1    47020        135238  https://i.ytimg.com/vi/O5Vd-I1gd7Y/default.jpg   \n2        0          2235  https://i.ytimg.com/vi/Rp54Lnej9WY/default.jpg   \n3        0             0  https://i.ytimg.com/vi/tYqUZapdjzE/default.jpg   \n4        0          9406  https://i.ytimg.com/vi/HlkORTHy8DU/default.jpg   \n\n  comments_disabled ratings_disabled  \\\n0             False            False   \n1             False            False   \n2             False            False   \n3              True            False   \n4             False            False   \n\n                                         description  \\\n0  Meghan Markle is setting the record straight. ...   \n1  ANUEL AA || BZRP Music Sessions #46Lyrics by: ...   \n2  【🚨자막수정 공지】4:56 잘못된 자막 ‘10년전’을 ‘20년전’으로 자막 수정합니...   \n3  待望となるシリーズおよびナンバリングの最新作『ストリートファイター6』の制作が決定！この夏、...   \n4  Shop our limited edition Breast Cancer Awarene...   \n\n                         origin  \n0  FR_youtube_trending_data.csv  \n1  US_youtube_trending_data.csv  \n2  KR_youtube_trending_data.csv  \n3  JP_youtube_trending_data.csv  \n4  CA_youtube_trending_data.csv  \n\n[5 rows x 28 columns]",
      "text/html": "<div>\n<style scoped>\n    .dataframe tbody tr th:only-of-type {\n        vertical-align: middle;\n    }\n\n    .dataframe tbody tr th {\n        vertical-align: top;\n    }\n\n    .dataframe thead th {\n        text-align: right;\n    }\n</style>\n<table border=\"1\" class=\"dataframe\">\n  <thead>\n    <tr style=\"text-align: right;\">\n      <th></th>\n      <th>index</th>\n      <th>video_id</th>\n      <th>title</th>\n      <th>publishedAt</th>\n      <th>published_date</th>\n      <th>published_month</th>\n      <th>published_day</th>\n      <th>published_time</th>\n      <th>published_hour</th>\n      <th>channelId</th>\n      <th>...</th>\n      <th>tags</th>\n      <th>view_count</th>\n      <th>likes</th>\n      <th>dislikes</th>\n      <th>comment_count</th>\n      <th>thumbnail_link</th>\n      <th>comments_disabled</th>\n      <th>ratings_disabled</th>\n      <th>description</th>\n      <th>origin</th>\n    </tr>\n  </thead>\n  <tbody>\n    <tr>\n      <th>0</th>\n      <td>41983</td>\n      <td>GzqOZ9QVZ_4</td>\n      <td>Meghan Markle Says Kate Middleton Made Her Cry...</td>\n      <td>2021-03-08 02:50:34</td>\n      <td>2021-03-08</td>\n      <td>March</td>\n      <td>Monday</td>\n      <td>02:50:34</td>\n      <td>2</td>\n      <td>UCiKGMZZmZXK-RpbKJGXgH3Q</td>\n      <td>...</td>\n      <td>Access|meghan markle|prince harry|royals|kate ...</td>\n      <td>1406056</td>\n      <td>8497</td>\n      <td>3467</td>\n      <td>5570</td>\n      <td>https://i.ytimg.com/vi/GzqOZ9QVZ_4/default.jpg</td>\n      <td>False</td>\n      <td>False</td>\n      <td>Meghan Markle is setting the record straight. ...</td>\n      <td>FR_youtube_trending_data.csv</td>\n    </tr>\n    <tr>\n      <th>1</th>\n      <td>91206</td>\n      <td>O5Vd-I1gd7Y</td>\n      <td>ANUEL AA || BZRP Music Sessions #46</td>\n      <td>2021-11-03 22:00:07</td>\n      <td>2021-11-03</td>\n      <td>November</td>\n      <td>Wednesday</td>\n      <td>22:00:07</td>\n      <td>22</td>\n      <td>UCmS75G-98QihSusY7NfCZtw</td>\n      <td>...</td>\n      <td>bizarrap|biza|bisa|bizzarrap|bzrp|bzrp music s...</td>\n      <td>12407815</td>\n      <td>1368606</td>\n      <td>47020</td>\n      <td>135238</td>\n      <td>https://i.ytimg.com/vi/O5Vd-I1gd7Y/default.jpg</td>\n      <td>False</td>\n      <td>False</td>\n      <td>ANUEL AA || BZRP Music Sessions #46Lyrics by: ...</td>\n      <td>US_youtube_trending_data.csv</td>\n    </tr>\n    <tr>\n      <th>2</th>\n      <td>161511</td>\n      <td>Rp54Lnej9WY</td>\n      <td>‘서희원♥️구준엽’부부 케미퀴즈 너무 스윗하다! 다시 만날 때 눈물 터진 기억 한달...</td>\n      <td>2022-10-25 11:00:05</td>\n      <td>2022-10-25</td>\n      <td>October</td>\n      <td>Tuesday</td>\n      <td>11:00:05</td>\n      <td>11</td>\n      <td>UCKl0gSq0JOcdzXTrS4gk2cg</td>\n      <td>...</td>\n      <td>cne-tw|dj koo|dj koo 大s|vogue|vogue quiz|vogue...</td>\n      <td>2492614</td>\n      <td>28219</td>\n      <td>0</td>\n      <td>2235</td>\n      <td>https://i.ytimg.com/vi/Rp54Lnej9WY/default.jpg</td>\n      <td>False</td>\n      <td>False</td>\n      <td>【🚨자막수정 공지】4:56 잘못된 자막 ‘10년전’을 ‘20년전’으로 자막 수정합니...</td>\n      <td>KR_youtube_trending_data.csv</td>\n    </tr>\n    <tr>\n      <th>3</th>\n      <td>114544</td>\n      <td>tYqUZapdjzE</td>\n      <td>『ストリートファイター6』ティザー映像</td>\n      <td>2022-02-21 05:34:57</td>\n      <td>2022-02-21</td>\n      <td>February</td>\n      <td>Monday</td>\n      <td>05:34:57</td>\n      <td>5</td>\n      <td>UCyuEAZQzRqhcaLZvQd9ZUNA</td>\n      <td>...</td>\n      <td>[None]</td>\n      <td>413789</td>\n      <td>4731</td>\n      <td>0</td>\n      <td>0</td>\n      <td>https://i.ytimg.com/vi/tYqUZapdjzE/default.jpg</td>\n      <td>True</td>\n      <td>False</td>\n      <td>待望となるシリーズおよびナンバリングの最新作『ストリートファイター6』の制作が決定！この夏、...</td>\n      <td>JP_youtube_trending_data.csv</td>\n    </tr>\n    <tr>\n      <th>4</th>\n      <td>163429</td>\n      <td>HlkORTHy8DU</td>\n      <td>Big Changes Coming (channel update)</td>\n      <td>2022-10-30 15:00:08</td>\n      <td>2022-10-30</td>\n      <td>October</td>\n      <td>Sunday</td>\n      <td>15:00:08</td>\n      <td>15</td>\n      <td>UC4laAHbk8VSgmvB47tsd2XQ</td>\n      <td>...</td>\n      <td>van life|living in a van|vanlife|eamon and bec...</td>\n      <td>589956</td>\n      <td>31990</td>\n      <td>0</td>\n      <td>9406</td>\n      <td>https://i.ytimg.com/vi/HlkORTHy8DU/default.jpg</td>\n      <td>False</td>\n      <td>False</td>\n      <td>Shop our limited edition Breast Cancer Awarene...</td>\n      <td>CA_youtube_trending_data.csv</td>\n    </tr>\n  </tbody>\n</table>\n<p>5 rows × 28 columns</p>\n</div>"
     },
     "execution_count": 21,
     "metadata": {},
     "output_type": "execute_result"
    }
   ],
   "source": [
    "# df = pd.read_csv('sample.csv',index_col=None, header=0, engine='python' )\n",
    "#df = pd.read_feather('sample.feather')\n",
    "#df.head()"
   ],
   "metadata": {
    "collapsed": false
   }
  },
  {
   "cell_type": "code",
   "execution_count": 31,
   "outputs": [],
   "source": [
    "df['publishedAt_year'] = df['publishedAt'].dt.year\n",
    "df['publishedAt_month'] = df['publishedAt'].dt.month\n",
    "df['publishedAt_day'] = df['publishedAt'].dt.day\n",
    "df['publishedAt_hour'] = df['publishedAt'].dt.hour\n",
    "df['publishedAt_minute'] = df['publishedAt'].dt.minute\n",
    "df['publishedAt_dayofweek'] = df['publishedAt'].dt.dayofweek"
   ],
   "metadata": {
    "collapsed": false
   }
  },
  {
   "cell_type": "code",
   "execution_count": 20,
   "outputs": [
    {
     "name": "stdout",
     "output_type": "stream",
     "text": [
      "pandas                               1.2.4\r\n"
     ]
    }
   ],
   "source": [
    "!pip list | grep pandas"
   ],
   "metadata": {
    "collapsed": false
   }
  },
  {
   "cell_type": "code",
   "execution_count": 32,
   "outputs": [
    {
     "name": "stdout",
     "output_type": "stream",
     "text": [
      "0\n"
     ]
    }
   ],
   "source": [
    "print(df.shape[0]-df.drop_duplicates().shape[0])\n",
    "# 1222 duplicated rows\n",
    "\n",
    "df = df.drop_duplicates()"
   ],
   "metadata": {
    "collapsed": false
   }
  },
  {
   "cell_type": "code",
   "execution_count": null,
   "outputs": [],
   "source": [],
   "metadata": {
    "collapsed": false
   }
  },
  {
   "cell_type": "code",
   "execution_count": 33,
   "outputs": [
    {
     "name": "stdout",
     "output_type": "stream",
     "text": [
      "Size of the original dataset: 10118\n",
      "Number of unique videos in the dataset: 9703\n"
     ]
    }
   ],
   "source": [
    "unique_videos = df[['title','video_id']].drop_duplicates()\n",
    "print(\"Size of the original dataset: {}\".format(len(df)))\n",
    "print(\"Number of unique videos in the dataset: {}\".format(len(unique_videos)))\n",
    "\n",
    "#Some videos are repeated, but with different trending dates\n",
    "\n",
    "titles_count = df['title'].value_counts()\n",
    "df['trending_time'] = df.apply(lambda x: titles_count[x['title']],axis=1)\n",
    "# Trending_time is the number of days in trending"
   ],
   "metadata": {
    "collapsed": false
   }
  },
  {
   "cell_type": "code",
   "execution_count": 34,
   "outputs": [
    {
     "name": "stdout",
     "output_type": "stream",
     "text": [
      "Index(['index', 'video_id', 'title', 'publishedAt', 'published_date',\n",
      "       'published_month', 'published_day', 'published_time', 'published_hour',\n",
      "       'channelId', 'channelTitle', 'categoryId', 'trendingAt',\n",
      "       'trending_date', 'trending_time', 'trending_hour', 'trending_month',\n",
      "       'trending_day', 'tags', 'view_count', 'likes', 'dislikes',\n",
      "       'comment_count', 'thumbnail_link', 'comments_disabled',\n",
      "       'ratings_disabled', 'description', 'origin', 'publishedAt_year',\n",
      "       'publishedAt_month', 'publishedAt_day', 'pub　lishedAt_hour',\n",
      "       'publishedAt_minute', 'publishedAt_dayofweek', 'liked', 'ratings',\n",
      "       'publishedAt_hour'],\n",
      "      dtype='object')\n"
     ]
    }
   ],
   "source": [
    "print(df.columns)\n",
    "\n",
    "columns_floats = ['view_count', 'likes', 'dislikes','comment_count','comments_disabled', 'ratings_disabled']\n",
    "columns_dates = ['trending_date','publish_time']"
   ],
   "metadata": {
    "collapsed": false
   }
  },
  {
   "cell_type": "code",
   "execution_count": 35,
   "outputs": [
    {
     "data": {
      "text/plain": "<AxesSubplot:>"
     },
     "execution_count": 35,
     "metadata": {},
     "output_type": "execute_result"
    },
    {
     "data": {
      "text/plain": "<Figure size 432x288 with 2 Axes>",
      "image/png": "[encoded data removed]"
     },
     "metadata": {},
     "output_type": "display_data"
    }
   ],
   "source": [
    "sns.heatmap(df[columns_floats].corr(),annot=True)"
   ],
   "metadata": {
    "collapsed": false
   }
  },
  {
   "cell_type": "code",
   "execution_count": 36,
   "outputs": [],
   "source": [
    "def TransformLikes(DF):\n",
    "    DF['liked'] = DF.apply(lambda x: x.likes/(x.likes+x.dislikes+1e-10),axis=1)\n",
    "    DF['ratings']= DF.apply(lambda x: x.likes+x.dislikes,axis=1)\n",
    "\n",
    "TransformLikes(df)"
   ],
   "metadata": {
    "collapsed": false
   }
  },
  {
   "cell_type": "code",
   "execution_count": 37,
   "outputs": [
    {
     "data": {
      "text/plain": "                   view_count     liked   ratings  comments_disabled  \\\nview_count           1.000000  0.005012  0.857071           0.000563   \nliked                0.005012  1.000000  0.044522          -0.205282   \nratings              0.857071  0.044522  1.000000          -0.017214   \ncomments_disabled    0.000563 -0.205282 -0.017214           1.000000   \ncomment_count        0.648212  0.008231  0.761688          -0.012114   \nratings_disabled     0.000945 -0.950549 -0.033811           0.198892   \npublishedAt_month    0.001836 -0.024965  0.013654          -0.006642   \npublishedAt_day      0.011712 -0.007697  0.013779           0.013854   \npublishedAt_hour    -0.050919  0.048255 -0.043501          -0.027888   \n\n                   comment_count  ratings_disabled  publishedAt_month  \\\nview_count              0.648212          0.000945           0.001836   \nliked                   0.008231         -0.950549          -0.024965   \nratings                 0.761688         -0.033811           0.013654   \ncomments_disabled      -0.012114          0.198892          -0.006642   \ncomment_count           1.000000         -0.005717           0.003003   \nratings_disabled       -0.005717          1.000000           0.021350   \npublishedAt_month       0.003003          0.021350           1.000000   \npublishedAt_day        -0.003209          0.016316           0.007053   \npublishedAt_hour       -0.049193         -0.045188           0.016620   \n\n                   publishedAt_day  publishedAt_hour  \nview_count                0.011712         -0.050919  \nliked                    -0.007697          0.048255  \nratings                   0.013779         -0.043501  \ncomments_disabled         0.013854         -0.027888  \ncomment_count            -0.003209         -0.049193  \nratings_disabled          0.016316         -0.045188  \npublishedAt_month         0.007053          0.016620  \npublishedAt_day           1.000000          0.008974  \npublishedAt_hour          0.008974          1.000000  ",
      "text/html": "<div>\n<style scoped>\n    .dataframe tbody tr th:only-of-type {\n        vertical-align: middle;\n    }\n\n    .dataframe tbody tr th {\n        vertical-align: top;\n    }\n\n    .dataframe thead th {\n        text-align: right;\n    }\n</style>\n<table border=\"1\" class=\"dataframe\">\n  <thead>\n    <tr style=\"text-align: right;\">\n      <th></th>\n      <th>view_count</th>\n      <th>liked</th>\n      <th>ratings</th>\n      <th>comments_disabled</th>\n      <th>comment_count</th>\n      <th>ratings_disabled</th>\n      <th>publishedAt_month</th>\n      <th>publishedAt_day</th>\n      <th>publishedAt_hour</th>\n    </tr>\n  </thead>\n  <tbody>\n    <tr>\n      <th>view_count</th>\n      <td>1.000000</td>\n      <td>0.005012</td>\n      <td>0.857071</td>\n      <td>0.000563</td>\n      <td>0.648212</td>\n      <td>0.000945</td>\n      <td>0.001836</td>\n      <td>0.011712</td>\n      <td>-0.050919</td>\n    </tr>\n    <tr>\n      <th>liked</th>\n      <td>0.005012</td>\n      <td>1.000000</td>\n      <td>0.044522</td>\n      <td>-0.205282</td>\n      <td>0.008231</td>\n      <td>-0.950549</td>\n      <td>-0.024965</td>\n      <td>-0.007697</td>\n      <td>0.048255</td>\n    </tr>\n    <tr>\n      <th>ratings</th>\n      <td>0.857071</td>\n      <td>0.044522</td>\n      <td>1.000000</td>\n      <td>-0.017214</td>\n      <td>0.761688</td>\n      <td>-0.033811</td>\n      <td>0.013654</td>\n      <td>0.013779</td>\n      <td>-0.043501</td>\n    </tr>\n    <tr>\n      <th>comments_disabled</th>\n      <td>0.000563</td>\n      <td>-0.205282</td>\n      <td>-0.017214</td>\n      <td>1.000000</td>\n      <td>-0.012114</td>\n      <td>0.198892</td>\n      <td>-0.006642</td>\n      <td>0.013854</td>\n      <td>-0.027888</td>\n    </tr>\n    <tr>\n      <th>comment_count</th>\n      <td>0.648212</td>\n      <td>0.008231</td>\n      <td>0.761688</td>\n      <td>-0.012114</td>\n      <td>1.000000</td>\n      <td>-0.005717</td>\n      <td>0.003003</td>\n      <td>-0.003209</td>\n      <td>-0.049193</td>\n    </tr>\n    <tr>\n      <th>ratings_disabled</th>\n      <td>0.000945</td>\n      <td>-0.950549</td>\n      <td>-0.033811</td>\n      <td>0.198892</td>\n      <td>-0.005717</td>\n      <td>1.000000</td>\n      <td>0.021350</td>\n      <td>0.016316</td>\n      <td>-0.045188</td>\n    </tr>\n    <tr>\n      <th>publishedAt_month</th>\n      <td>0.001836</td>\n      <td>-0.024965</td>\n      <td>0.013654</td>\n      <td>-0.006642</td>\n      <td>0.003003</td>\n      <td>0.021350</td>\n      <td>1.000000</td>\n      <td>0.007053</td>\n      <td>0.016620</td>\n    </tr>\n    <tr>\n      <th>publishedAt_day</th>\n      <td>0.011712</td>\n      <td>-0.007697</td>\n      <td>0.013779</td>\n      <td>0.013854</td>\n      <td>-0.003209</td>\n      <td>0.016316</td>\n      <td>0.007053</td>\n      <td>1.000000</td>\n      <td>0.008974</td>\n    </tr>\n    <tr>\n      <th>publishedAt_hour</th>\n      <td>-0.050919</td>\n      <td>0.048255</td>\n      <td>-0.043501</td>\n      <td>-0.027888</td>\n      <td>-0.049193</td>\n      <td>-0.045188</td>\n      <td>0.016620</td>\n      <td>0.008974</td>\n      <td>1.000000</td>\n    </tr>\n  </tbody>\n</table>\n</div>"
     },
     "execution_count": 37,
     "metadata": {},
     "output_type": "execute_result"
    }
   ],
   "source": [
    "columns_floats = ['view_count',\n",
    "                  #'likes',\n",
    "                  #'dislikes',\n",
    "                  'liked',\n",
    "                  'ratings',\n",
    "                  'comments_disabled',\n",
    "                  'comment_count',\n",
    "                  'ratings_disabled',\n",
    "                  'publishedAt_month',\n",
    "                  'publishedAt_day',\n",
    "                  'publishedAt_hour']\n",
    "\n",
    "df[columns_floats].corr()"
   ],
   "metadata": {
    "collapsed": false
   }
  },
  {
   "cell_type": "code",
   "execution_count": 38,
   "outputs": [],
   "source": [
    "def remove_punc(text):\n",
    "    text = text.replace('|',' ')\n",
    "    text = \"\".join([chart for chart in text if chart not in string.punctuation])\n",
    "\n",
    "    return text\n",
    "\n",
    "df['tags_clean'] = df['tags'].apply(lambda x: remove_punc(x))"
   ],
   "metadata": {
    "collapsed": false
   }
  },
  {
   "cell_type": "code",
   "execution_count": 39,
   "outputs": [],
   "source": [
    "def tokenizer(text):\n",
    "    tokens = re.split('\\W+',text)\n",
    "    return tokens\n",
    "\n",
    "df['tokens'] = df['tags_clean'].apply(lambda x: tokenizer(x.lower()))"
   ],
   "metadata": {
    "collapsed": false
   }
  },
  {
   "cell_type": "code",
   "execution_count": 40,
   "outputs": [
    {
     "name": "stderr",
     "output_type": "stream",
     "text": [
      "[nltk_data] Downloading package stopwords to\n",
      "[nltk_data]     /Users/emilyziyixiao/nltk_data...\n",
      "[nltk_data]   Unzipping corpora/stopwords.zip.\n"
     ]
    }
   ],
   "source": [
    "nltk.download('stopwords')\n",
    "stopwords_en = nltk.corpus.stopwords.words('english')\n",
    "stopwords_sp = nltk.corpus.stopwords.words('spanish')\n",
    "\n",
    "stopwords = stopwords_en + stopwords_sp"
   ],
   "metadata": {
    "collapsed": false
   }
  },
  {
   "cell_type": "code",
   "execution_count": 41,
   "outputs": [],
   "source": [
    "def remove_stopwords(tokens):\n",
    "    tokens = [token for token in tokens if token not in stopwords]\n",
    "    return tokens\n",
    "\n",
    "df['tokens'] = df['tokens'].apply(lambda x: remove_stopwords(x))"
   ],
   "metadata": {
    "collapsed": false
   }
  },
  {
   "cell_type": "code",
   "execution_count": 42,
   "outputs": [],
   "source": [
    "def remove_numb(tokens):\n",
    "    tokens = [token for token in tokens if token.isalpha()]\n",
    "    return tokens\n",
    "\n",
    "df['tokens'] = df['tokens'].apply(lambda x: remove_numb(x))"
   ],
   "metadata": {
    "collapsed": false
   }
  },
  {
   "cell_type": "code",
   "execution_count": 43,
   "outputs": [],
   "source": [
    "unique_videos = df[['title','video_id']].drop_duplicates()\n",
    "\n",
    "c = Counter()\n",
    "def counter(text):\n",
    "    c.update(text)\n",
    "df.loc[unique_videos.index,'tokens'].apply(lambda x: counter(x))\n",
    "\n",
    "common_words_1 = [word[0] for word in c.most_common()[:300]]"
   ],
   "metadata": {
    "collapsed": false
   }
  },
  {
   "cell_type": "code",
   "execution_count": 44,
   "outputs": [],
   "source": [
    "mono_words = list()\n",
    "for word in common_words_1:\n",
    "    if len(word)==1:\n",
    "        mono_words.append(word)\n",
    "\n",
    "for word in mono_words:\n",
    "    common_words_1.remove(word)"
   ],
   "metadata": {
    "collapsed": false
   }
  },
  {
   "cell_type": "code",
   "execution_count": 45,
   "outputs": [],
   "source": [
    "for word in common_words_1:\n",
    "    df[word] = df['tokens'].apply(lambda x: x.count(word))"
   ],
   "metadata": {
    "collapsed": false
   }
  },
  {
   "cell_type": "code",
   "execution_count": 46,
   "outputs": [],
   "source": [
    "unique_videos = df[['title']].drop_duplicates()\n",
    "\n",
    "X_train,X_test = train_test_split(unique_videos,test_size=0.2)\n",
    "\n",
    "columns  = ['liked',\n",
    "            'ratings',\n",
    "            'comments_disabled',\n",
    "            'comment_count',\n",
    "            'ratings_disabled',\n",
    "            'publishedAt_month',\n",
    "            'publishedAt_day',\n",
    "            'publishedAt_hour'] + common_words_1\n",
    "\n",
    "X_train = df.loc[X_train.index,columns]\n",
    "X_test = df.loc[X_test.index,columns]\n",
    "\n",
    "countries_train = df.loc[X_train.index]\n",
    "countries_test = df.loc[X_test.index]\n",
    "\n",
    "#oh_country = OneHotEncoder(sparse=False)\n",
    "\n",
    "#countries_train = pd.DataFrame(oh_country.fit_transform(countries_train.values.reshape(-1,1)),index = countries_train.index)\n",
    "#countries_test = pd.DataFrame(oh_country.transform(countries_test.values.reshape(-1,1)),index = countries_test.index)\n",
    "#X_train = pd.concat([X_train,countries_train],axis=1)\n",
    "#X_test = pd.concat([X_test,countries_test],axis=1)\n",
    "\n",
    "y_train = df.loc[X_train.index,'view_count']\n",
    "y_train = y_train[~y_train.index.duplicated(keep='first')]\n",
    "y_test = df.loc[X_test.index,'view_count']\n",
    "y_test = y_test[~y_test.index.duplicated(keep='first')]\n",
    "X_train = X_train[~X_train.index.duplicated(keep='first')]\n",
    "X_test = X_test[~X_test.index.duplicated(keep='first')]"
   ],
   "metadata": {
    "collapsed": false
   }
  },
  {
   "cell_type": "code",
   "execution_count": 48,
   "outputs": [],
   "source": [
    "columns_scaled  = ['liked',\n",
    "                   'ratings',\n",
    "                   'comments_disabled',\n",
    "                   'comment_count',\n",
    "                   'ratings_disabled',\n",
    "                   'publishedAt_month',\n",
    "                   'publishedAt_day',\n",
    "                   'publishedAt_hour'] #+ common_words_1\n",
    "\n",
    "scaler = StandardScaler()\n",
    "\n",
    "X_train[columns_scaled] = scaler.fit_transform(X_train[columns_scaled])\n",
    "X_test[columns_scaled] = scaler.transform(X_test[columns_scaled])\n",
    "\n",
    "from sklearn.preprocessing import MinMaxScaler\n",
    "minmax = MinMaxScaler()\n",
    "\n",
    "X_train[common_words_1] = minmax.fit_transform(X_train[common_words_1])\n",
    "X_test[common_words_1] = minmax.transform(X_test[common_words_1])"
   ],
   "metadata": {
    "collapsed": false
   }
  },
  {
   "cell_type": "code",
   "execution_count": 49,
   "outputs": [
    {
     "data": {
      "text/plain": "LogisticRegression(C=1, class_weight='balanced', random_state=0,\n                   solver='newton-cg')"
     },
     "execution_count": 49,
     "metadata": {},
     "output_type": "execute_result"
    }
   ],
   "source": [
    "from sklearn.linear_model import LogisticRegression\n",
    "\n",
    "clf = LogisticRegression(C=1,random_state=0, class_weight='balanced',solver='newton-cg')\n",
    "clf.fit(X_train,y_train)"
   ],
   "metadata": {
    "collapsed": false
   }
  },
  {
   "cell_type": "code",
   "execution_count": 55,
   "outputs": [
    {
     "data": {
      "text/plain": "4005028.439751809"
     },
     "execution_count": 55,
     "metadata": {},
     "output_type": "execute_result"
    }
   ],
   "source": [
    "from sklearn.metrics import mean_squared_error\n",
    "y_predict = clf.predict(X_test)\n",
    "RMSE_test = np.sqrt(mean_squared_error(y_predict, y_test))\n",
    "RMSE_test"
   ],
   "metadata": {
    "collapsed": false
   }
  },
  {
   "cell_type": "code",
   "execution_count": 56,
   "outputs": [
    {
     "data": {
      "text/plain": "0.25269208826460066"
     },
     "execution_count": 56,
     "metadata": {},
     "output_type": "execute_result"
    }
   ],
   "source": [
    "modify_rmse = 1012039/RMSE_test\n",
    "modify_rmse"
   ],
   "metadata": {
    "collapsed": false
   }
  },
  {
   "cell_type": "markdown",
   "source": [
    "# 咱就是说……要不计个时？"
   ],
   "metadata": {
    "collapsed": false
   }
  },
  {
   "cell_type": "code",
   "execution_count": 62,
   "outputs": [],
   "source": [
    "import datetime"
   ],
   "metadata": {
    "collapsed": false
   }
  },
  {
   "cell_type": "code",
   "execution_count": 63,
   "outputs": [],
   "source": [
    "start = datetime.datetime.now()"
   ],
   "metadata": {
    "collapsed": false
   }
  },
  {
   "cell_type": "code",
   "execution_count": 64,
   "outputs": [
    {
     "name": "stderr",
     "output_type": "stream",
     "text": [
      "/opt/anaconda3/lib/python3.8/site-packages/sklearn/svm/_base.py:985: ConvergenceWarning: Liblinear failed to converge, increase the number of iterations.\n",
      "  warnings.warn(\"Liblinear failed to converge, increase \"\n"
     ]
    },
    {
     "data": {
      "text/plain": "LinearSVC(class_weight='balanced')"
     },
     "execution_count": 64,
     "metadata": {},
     "output_type": "execute_result"
    }
   ],
   "source": [
    "from sklearn.svm import LinearSVC\n",
    "\n",
    "svc = LinearSVC(class_weight='balanced',loss=\"squared_hinge\",penalty=\"l2\")\n",
    "svc.fit(X_train,y_train)"
   ],
   "metadata": {
    "collapsed": false
   }
  },
  {
   "cell_type": "code",
   "execution_count": 65,
   "outputs": [
    {
     "data": {
      "text/plain": "5308698.604724238"
     },
     "execution_count": 65,
     "metadata": {},
     "output_type": "execute_result"
    }
   ],
   "source": [
    "y_predict = svc.predict(X_test)\n",
    "RMSE_test = np.sqrt(mean_squared_error(y_predict, y_test))\n",
    "RMSE_test"
   ],
   "metadata": {
    "collapsed": false
   }
  },
  {
   "cell_type": "code",
   "execution_count": 66,
   "outputs": [
    {
     "data": {
      "text/plain": "0.1906378710404432"
     },
     "execution_count": 66,
     "metadata": {},
     "output_type": "execute_result"
    }
   ],
   "source": [
    "modify_rmse = 1012039/RMSE_test\n",
    "modify_rmse"
   ],
   "metadata": {
    "collapsed": false
   }
  },
  {
   "cell_type": "code",
   "execution_count": 67,
   "outputs": [
    {
     "name": "stdout",
     "output_type": "stream",
     "text": [
      "0:06:49.190213\n"
     ]
    }
   ],
   "source": [
    "end = datetime.datetime.now()\n",
    "interval = end - start\n",
    "print(interval)"
   ],
   "metadata": {
    "collapsed": false
   }
  },
  {
   "cell_type": "code",
   "execution_count": null,
   "outputs": [],
   "source": [
    "start = datetime.datetime.now()"
   ],
   "metadata": {
    "collapsed": false,
    "pycharm": {
     "is_executing": true
    }
   }
  },
  {
   "cell_type": "code",
   "execution_count": null,
   "outputs": [],
   "source": [
    "from sklearn.ensemble import RandomForestClassifier\n",
    "rf = RandomForestClassifier(n_estimators=1000,\n",
    "                            max_depth=None,\n",
    "                            criterion='entropy',\n",
    "                            )\n",
    "rf.fit(X_train,y_train)"
   ],
   "metadata": {
    "collapsed": false,
    "pycharm": {
     "is_executing": true
    }
   }
  },
  {
   "cell_type": "code",
   "execution_count": null,
   "outputs": [],
   "source": [
    "y_predict = rf.predict(X_test)\n",
    "RMSE_test = np.sqrt(mean_squared_error(y_predict, y_test))\n",
    "RMSE_test"
   ],
   "metadata": {
    "collapsed": false,
    "pycharm": {
     "is_executing": true
    }
   }
  },
  {
   "cell_type": "code",
   "execution_count": null,
   "outputs": [],
   "source": [
    "modify_rmse = 1012039/RMSE_test\n",
    "modify_rmse"
   ],
   "metadata": {
    "collapsed": false,
    "pycharm": {
     "is_executing": true
    }
   }
  },
  {
   "cell_type": "code",
   "execution_count": null,
   "outputs": [],
   "source": [
    "end = datetime.datetime.now()\n",
    "interval = end - start\n",
    "print(interval)"
   ],
   "metadata": {
    "collapsed": false,
    "pycharm": {
     "is_executing": true
    }
   }
  },
  {
   "cell_type": "code",
   "execution_count": null,
   "outputs": [],
   "source": [],
   "metadata": {
    "collapsed": false
   }
  }
 ],
 "metadata": {
  "kernelspec": {
   "display_name": "Python 3",
   "language": "python",
   "name": "python3"
  },
  "language_info": {
   "codemirror_mode": {
    "name": "ipython",
    "version": 2
   },
   "file_extension": ".py",
   "mimetype": "text/x-python",
   "name": "python",
   "nbconvert_exporter": "python",
   "pygments_lexer": "ipython2",
   "version": "2.7.6"
  }
 },
 "nbformat": 4,
 "nbformat_minor": 0
}
